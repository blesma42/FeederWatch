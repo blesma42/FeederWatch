{
 "cells": [
  {
   "cell_type": "markdown",
   "metadata": {},
   "source": [
    "After sucessfully loading all tables into a database and merging them into one table, this table now will be cleaned and transformed for further analysis.\n",
    "\n",
    "But at first the required modules and credentials are loaded, and the MySQL connection is set up. "
   ]
  },
  {
   "cell_type": "code",
   "execution_count": 1,
   "metadata": {},
   "outputs": [],
   "source": [
    "import pandas as pd\n",
    "import json\n",
    "import mysql.connector"
   ]
  },
  {
   "cell_type": "code",
   "execution_count": 2,
   "metadata": {},
   "outputs": [],
   "source": [
    "#get credentials for MySQL/dbms\n",
    "with open(r'C:\\Users\\mathi\\Desktop\\Datenanalyse\\Credentials\\mysql.json') as json_file:\n",
    "    db_credentials = json.load(json_file)['MySQL']\n",
    "\n",
    "#credentials as variables\n",
    "host='localhost'\n",
    "user=db_credentials['user']\n",
    "password=db_credentials['password']\n",
    "database='feederwatch'\n",
    "\n",
    "#etablish connection to the dbms\n",
    "mydb = mysql.connector.connect(\n",
    "  host=host,\n",
    "  user=user,\n",
    "  password=password)\n",
    "\n",
    "mycursor = mydb.cursor()\n",
    "\n",
    "#select database\n",
    "query=f'USE {database}'\n",
    "mycursor.execute(query)"
   ]
  },
  {
   "cell_type": "markdown",
   "metadata": {},
   "source": [
    "To figure out, what to do, at first the table structure is inspected."
   ]
  },
  {
   "cell_type": "code",
   "execution_count": 3,
   "metadata": {},
   "outputs": [
    {
     "name": "stdout",
     "output_type": "stream",
     "text": [
      "                 Field       Type Null  Key Default Extra\n",
      "0                index  b'bigint'  YES  MUL    None      \n",
      "1               LOC_ID    b'text'  YES         None      \n",
      "2             LATITUDE  b'double'  YES         None      \n",
      "3            LONGITUDE  b'double'  YES         None      \n",
      "4    SUBNATIONAL1_CODE    b'text'  YES         None      \n",
      "5      ENTRY_TECHNIQUE    b'text'  YES         None      \n",
      "6               SUB_ID    b'text'  YES         None      \n",
      "7               OBS_ID    b'text'  YES         None      \n",
      "8                Month  b'bigint'  YES         None      \n",
      "9                  Day  b'bigint'  YES         None      \n",
      "10                Year  b'bigint'  YES         None      \n",
      "11      PROJ_PERIOD_ID    b'text'  YES         None      \n",
      "12        SPECIES_CODE    b'text'  YES         None      \n",
      "13            HOW_MANY  b'bigint'  YES         None      \n",
      "14           PLUS_CODE  b'bigint'  YES         None      \n",
      "15               VALID  b'bigint'  YES         None      \n",
      "16            REVIEWED  b'bigint'  YES         None      \n",
      "17             DAY1_AM  b'double'  YES         None      \n",
      "18             DAY1_PM  b'double'  YES         None      \n",
      "19             DAY2_AM  b'double'  YES         None      \n",
      "20             DAY2_PM  b'double'  YES         None      \n",
      "21  EFFORT_HRS_ATLEAST  b'double'  YES         None      \n",
      "22    SNOW_DEP_ATLEAST  b'double'  YES         None      \n",
      "23   Data_Entry_Method    b'text'  YES         None      \n",
      "24                  ID     b'int'   NO         None      \n"
     ]
    }
   ],
   "source": [
    "query='DESCRIBE observations'\n",
    "mycursor.execute(query)\n",
    "data=mycursor.fetchall()\n",
    "description=pd.DataFrame(data)\n",
    "description.columns=['Field', 'Type', 'Null', 'Key', 'Default', 'Extra']\n",
    "print(description)"
   ]
  },
  {
   "cell_type": "markdown",
   "metadata": {},
   "source": [
    "By checking the provided excel file, some differences between the current data types and the provided data types can be noticed:\n",
    "\n",
    "| Field | current type | actual type |\n",
    "|-|-|-|\n",
    "| VALID | double | binary |\n",
    "| REVIEWED | double | binary |\n",
    "| PLUS_CODE | double | binary |\n",
    "| DAY1_AM | double | binary |\n",
    "| DAY1_PM | double | binary |\n",
    "| DAY2_AM | double | binary |\n",
    "| DAY2_PM | double | binary |\n",
    "\n",
    "To change the data types a simple typcasting query is performed."
   ]
  },
  {
   "cell_type": "code",
   "execution_count": 4,
   "metadata": {},
   "outputs": [],
   "source": [
    "query='''ALTER TABLE observations \n",
    "        MODIFY COLUMN VALID binary,\n",
    "        MODIFY COLUMN REVIEWED binary,\n",
    "        MODIFY COLUMN PLUS_CODE binary,\n",
    "        MODIFY COLUMN DAY1_AM binary,\n",
    "        MODIFY COLUMN DAY1_PM binary,\n",
    "        MODIFY COLUMN DAY2_AM binary,\n",
    "        MODIFY COLUMN DAY2_PM binary\n",
    "        '''\n",
    "mycursor.execute(query)"
   ]
  },
  {
   "cell_type": "markdown",
   "metadata": {},
   "source": [
    "Because day, month, and year are usually very interesting for analysis, it's important, that they are formated in a useful way, eg. Year should be 4 digits to avoid sorting issues.\n",
    "To figure out the exact format of the columns they are fetched."
   ]
  },
  {
   "cell_type": "code",
   "execution_count": 5,
   "metadata": {},
   "outputs": [
    {
     "name": "stdout",
     "output_type": "stream",
     "text": [
      "   Year  Month  Day\n",
      "0  2006      1   25\n",
      "1  2008     11   25\n",
      "2  2005     11   12\n",
      "3  2008     11   25\n",
      "4  2005     11   12\n",
      "5  2008     11   25\n",
      "6  2006      1   25\n",
      "7  2005     11   12\n",
      "8  2008     11   25\n",
      "9  2006      1   25\n"
     ]
    }
   ],
   "source": [
    "query='SELECT Year, month, day FROM observations LIMIT 10'\n",
    "mycursor.execute(query)\n",
    "data=mycursor.fetchall()\n",
    "description=pd.DataFrame(data)\n",
    "description.columns=['Year', 'Month', 'Day']\n",
    "print(description)"
   ]
  },
  {
   "cell_type": "markdown",
   "metadata": {},
   "source": [
    "According to the provided data dictonary, the column 'SUBNATIONAL1_CODE' contains a combination of country and state of the observation location.\n",
    "\n",
    "> Format XX-XX where the left two letters indicate the country and the right two letters indicate the state or province code. E.g., CA-ON = Canada - Ontario\n",
    "\n",
    "To utilize this information, it might be better to seperate country and region/state from each other.  \n",
    "For this reason, two columns are generated:"
   ]
  },
  {
   "cell_type": "code",
   "execution_count": 6,
   "metadata": {},
   "outputs": [],
   "source": [
    "query='''ALTER TABLE observations\n",
    "      ADD COUNTRY VARCHAR(2),\n",
    "      ADD STATE VARCHAR(2)'''\n",
    "\n",
    "mycursor.execute(query)"
   ]
  },
  {
   "cell_type": "markdown",
   "metadata": {},
   "source": [
    "In the next step, the columns should be populated, but unfortunally the folowing querry generates an error:\n",
    "\n",
    "> DataError: 1406 (22001): Data too long for column 'STATE' at row 576571"
   ]
  },
  {
   "cell_type": "code",
   "execution_count": null,
   "metadata": {},
   "outputs": [],
   "source": [
    "query='''UPDATE observations\n",
    "      SET COUNTRY = SUBSTRING_INDEX(SUBNATIONAL1_CODE, \"-\", 1),\n",
    "      STATE = SUBSTRING_INDEX(SUBNATIONAL1_CODE, \"-\", -1);\n",
    "      '''\n",
    "      \n",
    "mycursor.execute(query)"
   ]
  },
  {
   "cell_type": "markdown",
   "metadata": {},
   "source": [
    "Since the error states, that the data is to long, there might be some enteries which do not follow the xx-xx pattern. \n",
    "There are multiple ways on whats could be wrong, eg. xx-xxx and x-xxx.\n",
    "To get a better idea of the data issue, the lenght of the entry and the position of the delimiter are fetched."
   ]
  },
  {
   "cell_type": "code",
   "execution_count": 7,
   "metadata": {},
   "outputs": [
    {
     "name": "stdout",
     "output_type": "stream",
     "text": [
      "      Count  Position  Length\n",
      "0  36726426         3       5\n",
      "1      4566         3       3\n",
      "2      2678         3       6\n"
     ]
    }
   ],
   "source": [
    "query = '''SELECT COUNT(*), INSTR(SUBNATIONAL1_CODE, \"-\") AS Position, CHAR_LENGTH(SUBNATIONAL1_CODE) AS LENGTH\n",
    "        FROM observations \n",
    "        GROUP BY Position, LENGTH\n",
    "        '''\n",
    "mycursor.execute(query)\n",
    "data=mycursor.fetchall()\n",
    "description=pd.DataFrame(data)\n",
    "description.columns=['Count', 'Position', 'Length']\n",
    "print(description)"
   ]
  },
  {
   "cell_type": "markdown",
   "metadata": {},
   "source": [
    "The position of the delimiter indicates, that all countries are two letter abbreviations, but some states/regions are not.\n",
    "For futher understanding 5 entries for each length are fetched."
   ]
  },
  {
   "cell_type": "code",
   "execution_count": 8,
   "metadata": {},
   "outputs": [
    {
     "name": "stdout",
     "output_type": "stream",
     "text": [
      "   SUBNATIONAL1_CODE  Length\n",
      "0                XX-       3\n",
      "1                XX-       3\n",
      "2                XX-       3\n",
      "3                XX-       3\n",
      "4                XX-       3\n",
      "5              CA-ON       5\n",
      "6              US-PA       5\n",
      "7              US-MI       5\n",
      "8              US-PA       5\n",
      "9              US-MI       5\n",
      "10            NZ-OTA       6\n",
      "11            NZ-OTA       6\n",
      "12            NZ-OTA       6\n",
      "13            NZ-OTA       6\n",
      "14            NZ-OTA       6\n"
     ]
    }
   ],
   "source": [
    "query = '''(SELECT SUBNATIONAL1_CODE, CHAR_LENGTH(SUBNATIONAL1_CODE)\n",
    "        FROM observations \n",
    "        WHERE CHAR_LENGTH(SUBNATIONAL1_CODE)=3\n",
    "        LIMIT 5)\n",
    "        UNION ALL\n",
    "        (SELECT SUBNATIONAL1_CODE, CHAR_LENGTH(SUBNATIONAL1_CODE)\n",
    "        FROM observations \n",
    "        WHERE CHAR_LENGTH(SUBNATIONAL1_CODE)=5\n",
    "        LIMIT 5)\n",
    "        UNION ALL\n",
    "        (SELECT SUBNATIONAL1_CODE, CHAR_LENGTH(SUBNATIONAL1_CODE)\n",
    "        FROM observations \n",
    "        WHERE CHAR_LENGTH(SUBNATIONAL1_CODE)=6\n",
    "        LIMIT 5)\n",
    "        '''\n",
    "mycursor.execute(query)\n",
    "data=mycursor.fetchall()\n",
    "description=pd.DataFrame(data)\n",
    "description.columns=['SUBNATIONAL1_CODE', 'Length']\n",
    "print(description)"
   ]
  },
  {
   "cell_type": "markdown",
   "metadata": {},
   "source": [
    "This shows, that there are some empty state/region codes (xx-) and some three letter codes. Because of this the columns character limit should be increased."
   ]
  },
  {
   "cell_type": "code",
   "execution_count": 9,
   "metadata": {},
   "outputs": [],
   "source": [
    "query = '''ALTER TABLE observations\n",
    "        MODIFY STATE VARCHAR(3);\n",
    "        '''\n",
    "        \n",
    "mycursor.execute(query)"
   ]
  },
  {
   "cell_type": "markdown",
   "metadata": {},
   "source": [
    "Now the querry from above can be re-runed. Additionally the empty values can be replaced."
   ]
  },
  {
   "cell_type": "code",
   "execution_count": 10,
   "metadata": {},
   "outputs": [],
   "source": [
    "query='''UPDATE observations\n",
    "      SET COUNTRY = SUBSTRING_INDEX(SUBNATIONAL1_CODE, \"-\", 1),\n",
    "      STATE = SUBSTRING_INDEX(SUBNATIONAL1_CODE, \"-\", -1);\n",
    "      '''\n",
    "\n",
    "mycursor.execute(query)\n",
    "\n",
    "query='''UPDATE observations\n",
    "      SET STATE = \"XX\"\n",
    "      WHERE STATE IS NULL OR STATE = \"\";\n",
    "      '''\n",
    "      \n",
    "mycursor.execute(query)"
   ]
  },
  {
   "cell_type": "markdown",
   "metadata": {},
   "source": [
    "And as control the lengths of  SUBNATIONAL1_CODE and STATE can be checked."
   ]
  },
  {
   "cell_type": "code",
   "execution_count": 11,
   "metadata": {},
   "outputs": [
    {
     "name": "stdout",
     "output_type": "stream",
     "text": [
      "      Count  Length_SUBNATIONAL  Length_STATE\n",
      "0  36726426                   5             2\n",
      "1      4566                   3             2\n",
      "2      2678                   6             3\n"
     ]
    }
   ],
   "source": [
    "query = '''SELECT COUNT(*), CHAR_LENGTH(SUBNATIONAL1_CODE) AS LENGTH_SUBNATIONAL, CHAR_LENGTH(STATE) AS LENGTH_STATE\n",
    "        FROM observations \n",
    "        GROUP BY LENGTH_SUBNATIONAL, LENGTH_STATE\n",
    "        '''\n",
    "mycursor.execute(query)\n",
    "data=mycursor.fetchall()\n",
    "description=pd.DataFrame(data)\n",
    "description.columns=['Count', 'Length_SUBNATIONAL', 'Length_STATE']\n",
    "print(description)"
   ]
  },
  {
   "cell_type": "markdown",
   "metadata": {},
   "source": [
    "To check the countries for any irregularities all distinct countries and the states per contry are inspected."
   ]
  },
  {
   "cell_type": "code",
   "execution_count": 12,
   "metadata": {},
   "outputs": [
    {
     "name": "stdout",
     "output_type": "stream",
     "text": [
      "  Country  State_Count\n",
      "0      CA           13\n",
      "1      MX            2\n",
      "2      NZ            1\n",
      "3      PM            1\n",
      "4      US           51\n",
      "5      XX            1\n"
     ]
    }
   ],
   "source": [
    "query='''SELECT \n",
    "  COUNTRY, COUNT(DISTINCT(STATE))\n",
    "  FROM observations\n",
    "  GROUP BY COUNTRY\n",
    "  '''\n",
    "\n",
    "mycursor.execute(query)\n",
    "data=mycursor.fetchall()\n",
    "country_state=pd.DataFrame(data)\n",
    "country_state.columns=['Country', 'State_Count']\n",
    "print(country_state)"
   ]
  },
  {
   "cell_type": "markdown",
   "metadata": {},
   "source": [
    "As Canada has 10 provinces and three territories, and the USA has 50 states, the numbers seem to be correct. Note that the data might contain a unknown state labled \"XX\".\n",
    "Though the dataset contains only two out of 31 states from Mexico, this might be fine, because the focus of this project is on the USA and Canada.\n",
    "So it might be the simplesst way to remove every other country, but before this can be done, its importent to know, how much data would be lost."
   ]
  },
  {
   "cell_type": "code",
   "execution_count": 13,
   "metadata": {},
   "outputs": [
    {
     "name": "stdout",
     "output_type": "stream",
     "text": [
      "  Country     Count\n",
      "0      CA   4686465\n",
      "1      MX      2595\n",
      "2      NZ        83\n",
      "3      PM      1830\n",
      "4      US  32039961\n",
      "5      XX      2736\n"
     ]
    }
   ],
   "source": [
    "query='''SELECT \n",
    "  COUNTRY, COUNT(*)\n",
    "  FROM observations\n",
    "  GROUP BY COUNTRY\n",
    "  '''\n",
    "\n",
    "mycursor.execute(query)\n",
    "data=mycursor.fetchall()\n",
    "country_entries=pd.DataFrame(data)\n",
    "country_entries.columns=['Country', 'Count']\n",
    "print(country_entries)"
   ]
  },
  {
   "cell_type": "markdown",
   "metadata": {},
   "source": [
    "Because the other contries make only a small fraction of the overall data, they can be removed withaout large issues."
   ]
  },
  {
   "cell_type": "code",
   "execution_count": 14,
   "metadata": {},
   "outputs": [
    {
     "name": "stdout",
     "output_type": "stream",
     "text": [
      "  Country     Count\n",
      "0      CA   4686465\n",
      "1      US  32039961\n"
     ]
    }
   ],
   "source": [
    "query = '''DELETE FROM observations \n",
    "        WHERE COUNTRY<>\"CA\" AND COUNTRY<>\"US\";\n",
    "        '''\n",
    "        \n",
    "mycursor.execute(query)\n",
    "\n",
    "query='''SELECT \n",
    "  COUNTRY, COUNT(*)\n",
    "  FROM observations\n",
    "  GROUP BY COUNTRY\n",
    "  '''\n",
    "\n",
    "mycursor.execute(query)\n",
    "data=mycursor.fetchall()\n",
    "country_entries=pd.DataFrame(data)\n",
    "country_entries.columns=['Country', 'Count']\n",
    "print(country_entries)"
   ]
  }
 ],
 "metadata": {
  "interpreter": {
   "hash": "5cc83d2eedb6ffb852fbb5dbaa9989f2c63275a766445ab272166a468a2180f7"
  },
  "kernelspec": {
   "display_name": "Python 3.10.2 ('.venv': venv)",
   "language": "python",
   "name": "python3"
  },
  "language_info": {
   "codemirror_mode": {
    "name": "ipython",
    "version": 3
   },
   "file_extension": ".py",
   "mimetype": "text/x-python",
   "name": "python",
   "nbconvert_exporter": "python",
   "pygments_lexer": "ipython3",
   "version": "3.10.2"
  },
  "orig_nbformat": 4
 },
 "nbformat": 4,
 "nbformat_minor": 2
}
